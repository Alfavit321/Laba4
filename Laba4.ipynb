{
 "cells": [
  {
   "cell_type": "code",
   "execution_count": 1,
   "metadata": {
    "collapsed": true
   },
   "outputs": [
    {
     "name": "stdout",
     "output_type": "stream",
     "text": [
      "      Item(s)               Item 1               Item 2            Item 3  \\\n",
      "0           4         citrus fruit  semi-finished bread         margarine   \n",
      "1           3       tropical fruit               yogurt            coffee   \n",
      "2           1           whole milk                  NaN               NaN   \n",
      "3           4            pip fruit               yogurt      cream cheese   \n",
      "4           4     other vegetables           whole milk    condensed milk   \n",
      "...       ...                  ...                  ...               ...   \n",
      "9830       17              sausage              chicken              beef   \n",
      "9831        1    cooking chocolate                  NaN               NaN   \n",
      "9832       10              chicken         citrus fruit  other vegetables   \n",
      "9833        4  semi-finished bread        bottled water              soda   \n",
      "9834        5              chicken       tropical fruit  other vegetables   \n",
      "\n",
      "                        Item 4         Item 5          Item 6  \\\n",
      "0                  ready soups            NaN             NaN   \n",
      "1                          NaN            NaN             NaN   \n",
      "2                          NaN            NaN             NaN   \n",
      "3                 meat spreads            NaN             NaN   \n",
      "4     long life bakery product            NaN             NaN   \n",
      "...                        ...            ...             ...   \n",
      "9830            hamburger meat   citrus fruit          grapes   \n",
      "9831                       NaN            NaN             NaN   \n",
      "9832                    butter         yogurt  frozen dessert   \n",
      "9833              bottled beer            NaN             NaN   \n",
      "9834                   vinegar  shopping bags             NaN   \n",
      "\n",
      "               Item 7      Item 8  Item 9  ... Item 23 Item 24 Item 25  \\\n",
      "0                 NaN         NaN     NaN  ...     NaN     NaN     NaN   \n",
      "1                 NaN         NaN     NaN  ...     NaN     NaN     NaN   \n",
      "2                 NaN         NaN     NaN  ...     NaN     NaN     NaN   \n",
      "3                 NaN         NaN     NaN  ...     NaN     NaN     NaN   \n",
      "4                 NaN         NaN     NaN  ...     NaN     NaN     NaN   \n",
      "...               ...         ...     ...  ...     ...     ...     ...   \n",
      "9830  root vegetables  whole milk  butter  ...     NaN     NaN     NaN   \n",
      "9831              NaN         NaN     NaN  ...     NaN     NaN     NaN   \n",
      "9832    domestic eggs  rolls/buns     rum  ...     NaN     NaN     NaN   \n",
      "9833              NaN         NaN     NaN  ...     NaN     NaN     NaN   \n",
      "9834              NaN         NaN     NaN  ...     NaN     NaN     NaN   \n",
      "\n",
      "     Item 26 Item 27 Item 28 Item 29 Item 30 Item 31 Item 32  \n",
      "0        NaN     NaN     NaN     NaN     NaN     NaN     NaN  \n",
      "1        NaN     NaN     NaN     NaN     NaN     NaN     NaN  \n",
      "2        NaN     NaN     NaN     NaN     NaN     NaN     NaN  \n",
      "3        NaN     NaN     NaN     NaN     NaN     NaN     NaN  \n",
      "4        NaN     NaN     NaN     NaN     NaN     NaN     NaN  \n",
      "...      ...     ...     ...     ...     ...     ...     ...  \n",
      "9830     NaN     NaN     NaN     NaN     NaN     NaN     NaN  \n",
      "9831     NaN     NaN     NaN     NaN     NaN     NaN     NaN  \n",
      "9832     NaN     NaN     NaN     NaN     NaN     NaN     NaN  \n",
      "9833     NaN     NaN     NaN     NaN     NaN     NaN     NaN  \n",
      "9834     NaN     NaN     NaN     NaN     NaN     NaN     NaN  \n",
      "\n",
      "[9835 rows x 33 columns]\n"
     ]
    }
   ],
   "source": [
    "import pandas as pd\n",
    "all_data = pd.read_csv('groceries - groceries.csv')\n",
    "print(all_data) #Видно, что датафрейм содержит NaN значения"
   ]
  },
  {
   "cell_type": "code",
   "execution_count": 2,
   "outputs": [],
   "source": [
    "np_data = all_data.to_numpy()\n",
    "np_data = [[elem for elem in row[1:] if isinstance(elem,str)] for row in np_data]"
   ],
   "metadata": {
    "collapsed": false
   }
  },
  {
   "cell_type": "code",
   "execution_count": 3,
   "outputs": [
    {
     "name": "stdout",
     "output_type": "stream",
     "text": [
      "{'specialty vegetables', 'shopping bags', 'cooking chocolate', 'sauces', 'bottled water', 'pastry', 'honey', 'finished products', 'citrus fruit', 'liver loaf', 'hard cheese', 'salty snack', 'softener', 'flour', 'chicken', 'cream cheese', 'waffles', 'pickled vegetables', 'oil', 'male cosmetics', 'rice', 'sugar', 'dental care', 'liqueur', 'cream', 'herbs', 'bags', 'baby food', 'frozen meals', 'meat', 'decalcifier', 'seasonal products', 'artif. sweetener', 'bottled beer', 'rolls/buns', 'white bread', 'prosecco', 'spices', 'ham', 'coffee', 'potted plants', 'whipped/sour cream', 'abrasive cleaner', 'flower soil/fertilizer', 'Instant food products', 'brown bread', 'photo/film', 'meat spreads', 'whole milk', 'nut snack', 'ketchup', 'vinegar', 'light bulbs', 'preservation products', 'butter', 'hamburger meat', 'hygiene articles', 'frozen fruits', 'canned vegetables', 'dish cleaner', 'butter milk', 'roll products', 'syrup', 'grapes', 'frankfurter', 'snack products', 'condensed milk', 'soups', 'specialty fat', 'nuts/prunes', 'sausage', 'potato products', 'dog food', 'tidbits', 'baking powder', 'other vegetables', 'domestic eggs', 'root vegetables', 'house keeping products', 'spread cheese', 'bathroom cleaner', 'pork', 'chocolate', 'make up remover', 'onions', 'curd cheese', 'soft cheese', 'UHT-milk', 'packaged fruit/vegetables', 'tea', 'pet care', 'baby cosmetics', 'canned fish', 'frozen fish', 'yogurt', 'long life bakery product', 'pip fruit', 'kitchen utensil', 'candles', 'flower (seeds)', 'cling film/bags', 'specialty bar', 'popcorn', 'fish', 'tropical fruit', 'cookware', 'frozen chicken', 'liquor', 'organic sausage', 'toilet cleaner', 'dessert', 'cocoa drinks', 'sound storage medium', 'mustard', 'specialty cheese', 'frozen vegetables', 'liquor (appetizer)', 'napkins', 'beverages', 'chocolate marshmallow', 'turkey', 'frozen dessert', 'misc. beverages', 'pasta', 'semi-finished bread', 'mayonnaise', 'ice cream', 'frozen potato products', 'cat food', 'canned fruit', 'berries', 'cleaner', 'sliced cheese', 'margarine', 'candy', 'ready soups', 'detergent', 'salt', 'cereals', 'curd', 'soda', 'fruit/vegetable juice', 'rubbing alcohol', 'sweet spreads', 'soap', 'whisky', 'cake bar', 'newspapers', 'sparkling wine', 'kitchen towels', 'zwieback', 'canned beer', 'female sanitary products', 'red/blush wine', 'dishes', 'chewing gum', 'skin care', 'hair spray', 'salad dressing', 'rum', 'beef', 'white wine', 'instant coffee', 'brandy', 'pudding powder', 'organic products', 'jam', 'processed cheese', 'specialty chocolate'}\n",
      "Количество товаров :169\n"
     ]
    }
   ],
   "source": [
    "unique_items = set()\n",
    "for row in np_data:\n",
    "    for elem in row:\n",
    "        unique_items.add(elem)\n",
    "print(unique_items)\n",
    "print('Количество товаров :' + str(len(unique_items)))\n"
   ],
   "metadata": {
    "collapsed": false
   }
  },
  {
   "cell_type": "code",
   "execution_count": 4,
   "outputs": [],
   "source": [
    "from mlxtend.preprocessing import TransactionEncoder\n",
    "te = TransactionEncoder()\n",
    "te_ary = te.fit(np_data).transform(np_data)\n",
    "data = pd.DataFrame(te_ary, columns=te.columns_)"
   ],
   "metadata": {
    "collapsed": false
   }
  },
  {
   "cell_type": "code",
   "execution_count": 5,
   "outputs": [
    {
     "name": "stdout",
     "output_type": "stream",
     "text": [
      "     support                             itemsets\n",
      "0   0.082766                       (citrus fruit)\n",
      "1   0.058566                          (margarine)\n",
      "2   0.139502                             (yogurt)\n",
      "3   0.104931                     (tropical fruit)\n",
      "4   0.058058                             (coffee)\n",
      "..       ...                                  ...\n",
      "58  0.033249                 (whole milk, pastry)\n",
      "59  0.047382  (other vegetables, root vegetables)\n",
      "60  0.048907        (root vegetables, whole milk)\n",
      "61  0.030605                (rolls/buns, sausage)\n",
      "62  0.032232     (whole milk, whipped/sour cream)\n",
      "\n",
      "[63 rows x 2 columns]\n"
     ]
    }
   ],
   "source": [
    "from mlxtend.frequent_patterns import fpgrowth\n",
    "result = fpgrowth(data, min_support=0.03, use_colnames = True)\n",
    "print(result)\n"
   ],
   "metadata": {
    "collapsed": false
   }
  },
  {
   "cell_type": "code",
   "execution_count": 6,
   "outputs": [
    {
     "name": "stdout",
     "output_type": "stream",
     "text": [
      "При длине 1 минимальное значение:0.03040162684290798\n",
      "максимальное значение:0.25551601423487547\n",
      "При длине 2 минимальное значение:0.030096593797661414\n",
      "максимальное значение:0.07483477376715811\n"
     ]
    }
   ],
   "source": [
    "result[\"leng\"] = result[\"itemsets\"].apply(lambda x: len(x))\n",
    "leng= set(result[\"leng\"])\n",
    "for i in leng:\n",
    "    result_l = result[(result['leng'] == i)]\n",
    "    print('При длине ' + str(i)+' минимальное значение:'+ str(min(result_l[\"support\"])))\n",
    "    print('максимальное значение:'+str(max(result_l[\"support\"])))"
   ],
   "metadata": {
    "collapsed": false
   }
  },
  {
   "cell_type": "code",
   "execution_count": 7,
   "outputs": [
    {
     "name": "stdout",
     "output_type": "stream",
     "text": [
      "     support                             itemsets\n",
      "0   0.030402                (specialty chocolate)\n",
      "1   0.031012                             (onions)\n",
      "2   0.032944                   (hygiene articles)\n",
      "3   0.033249                            (berries)\n",
      "4   0.033249                     (hamburger meat)\n",
      "5   0.033452                           (UHT-milk)\n",
      "6   0.033859                              (sugar)\n",
      "7   0.037112                            (dessert)\n",
      "8   0.037417           (long life bakery product)\n",
      "9   0.037824                        (salty snack)\n",
      "10  0.038434                            (waffles)\n",
      "11  0.039654                       (cream cheese)\n",
      "12  0.042095                        (white bread)\n",
      "13  0.042908                            (chicken)\n",
      "14  0.048094                  (frozen vegetables)\n",
      "15  0.049619                          (chocolate)\n",
      "16  0.052364                            (napkins)\n",
      "17  0.052466                               (beef)\n",
      "18  0.053279                               (curd)\n",
      "19  0.055414                             (butter)\n",
      "20  0.057651                               (pork)\n",
      "21  0.058058                             (coffee)\n",
      "22  0.058566                          (margarine)\n",
      "23  0.058973                        (frankfurter)\n",
      "24  0.063447                      (domestic eggs)\n",
      "25  0.064870                        (brown bread)\n",
      "26  0.032232     (whole milk, whipped/sour cream)\n",
      "27  0.072293              (fruit/vegetable juice)\n",
      "28  0.030097              (whole milk, pip fruit)\n",
      "29  0.077682                        (canned beer)\n",
      "30  0.079817                         (newspapers)\n",
      "31  0.080529                       (bottled beer)\n",
      "32  0.030503           (whole milk, citrus fruit)\n",
      "33  0.033249                 (whole milk, pastry)\n",
      "34  0.030605                (rolls/buns, sausage)\n",
      "35  0.098526                      (shopping bags)\n",
      "36  0.035892   (other vegetables, tropical fruit)\n",
      "37  0.042298         (tropical fruit, whole milk)\n",
      "38  0.047382  (other vegetables, root vegetables)\n",
      "39  0.048907        (root vegetables, whole milk)\n",
      "40  0.034367          (bottled water, whole milk)\n",
      "41  0.034367                 (yogurt, rolls/buns)\n",
      "42  0.043416           (other vegetables, yogurt)\n",
      "43  0.056024                 (yogurt, whole milk)\n",
      "44  0.032740             (other vegetables, soda)\n",
      "45  0.038332                   (rolls/buns, soda)\n",
      "46  0.040061                   (soda, whole milk)\n",
      "47  0.042603       (other vegetables, rolls/buns)\n",
      "48  0.056634             (rolls/buns, whole milk)\n",
      "49  0.074835       (other vegetables, whole milk)\n"
     ]
    }
   ],
   "source": [
    "from mlxtend.frequent_patterns import fpmax\n",
    "result_fpmax = fpmax(data, min_support=0.03, use_colnames=True)\n",
    "print(result_fpmax)"
   ],
   "metadata": {
    "collapsed": false
   }
  },
  {
   "cell_type": "code",
   "execution_count": 8,
   "outputs": [
    {
     "name": "stdout",
     "output_type": "stream",
     "text": [
      "При длине 1 минимальное значение:0.03040162684290798\n",
      "максимальное значение:0.09852567361464158\n",
      "При длине 2 минимальное значение:0.030096593797661414\n",
      "максимальное значение:0.07483477376715811\n"
     ]
    }
   ],
   "source": [
    "result_fpmax[\"leng\"] = result_fpmax[\"itemsets\"].apply(lambda x: len(x))\n",
    "leng= set(result_fpmax[\"leng\"])\n",
    "for i in leng:\n",
    "    result_l = result_fpmax[(result_fpmax['leng'] == i)]\n",
    "    print('При длине ' + str(i)+' минимальное значение:'+ str(min(result_l[\"support\"])))\n",
    "    print('максимальное значение:'+str(max(result_l[\"support\"])))"
   ],
   "metadata": {
    "collapsed": false
   }
  },
  {
   "cell_type": "code",
   "execution_count": 9,
   "outputs": [
    {
     "name": "stdout",
     "output_type": "stream",
     "text": [
      "FP-Max это разновидность FP-Growth, который фокусируется на получении максимальных наборов предметов. \n"
     ]
    }
   ],
   "source": [
    "print('FP-Max это разновидность FP-Growth, который фокусируется на получении максимальных наборов предметов. ')"
   ],
   "metadata": {
    "collapsed": false
   }
  },
  {
   "cell_type": "code",
   "execution_count": 10,
   "outputs": [
    {
     "data": {
      "text/plain": "<Figure size 1500x1000 with 1 Axes>",
      "image/png": "[encoded data removed]"
     },
     "metadata": {},
     "output_type": "display_data"
    }
   ],
   "source": [
    "import matplotlib.pyplot as plt\n",
    "result_fpmax1 = fpmax(data, min_support=0.03, use_colnames=True, max_len=1)\n",
    "itemsets = []\n",
    "for i in result_fpmax1[\"itemsets\"]:\n",
    "    itemsets.append(*list(i))\n",
    "supports = []\n",
    "for i in result_fpmax1[\"support\"]:\n",
    "    supports.append(i)\n",
    "dict = {}\n",
    "for i in range(len(itemsets)):\n",
    "    dict[itemsets[i]] = supports[i]\n",
    "gist = tuple(sorted(dict.items(), key=lambda x: x[1], reverse=True))[0:10]\n",
    "fig, ax = plt.subplots(figsize=(15, 10))\n",
    "names = [name[0] for name in gist]\n",
    "sups = [sup[1] for sup in gist]\n",
    "ax.bar(names, sups)\n",
    "plt.show()\n",
    "\n"
   ],
   "metadata": {
    "collapsed": false
   }
  },
  {
   "cell_type": "code",
   "execution_count": 11,
   "outputs": [],
   "source": [
    "items = ['whole milk', 'yogurt', 'soda', 'tropical fruit', 'shopping bags',\n",
    "         'sausage', 'whipped/sour cream', 'rolls/buns', 'other vegetables', 'root vegetables',\n",
    "         'pork', 'bottled water', 'pastry', 'citrus fruit', 'canned beer', 'bottled beer']\n",
    "np_data = all_data.to_numpy()\n",
    "np_data = [[elem for elem in row[1:] if isinstance(elem, str) and elem in items] for row in np_data]"
   ],
   "metadata": {
    "collapsed": false
   }
  },
  {
   "cell_type": "code",
   "execution_count": 12,
   "outputs": [],
   "source": [
    "te1 = TransactionEncoder()\n",
    "te_ary1 = te1.fit(np_data).transform(np_data)\n",
    "data1 = pd.DataFrame(te_ary1, columns=te1.columns_)"
   ],
   "metadata": {
    "collapsed": false
   }
  },
  {
   "cell_type": "code",
   "execution_count": 13,
   "outputs": [
    {
     "name": "stdout",
     "output_type": "stream",
     "text": [
      "     support                             itemsets\n",
      "0   0.082766                       (citrus fruit)\n",
      "1   0.139502                             (yogurt)\n",
      "2   0.104931                     (tropical fruit)\n",
      "3   0.255516                         (whole milk)\n",
      "4   0.193493                   (other vegetables)\n",
      "5   0.183935                         (rolls/buns)\n",
      "6   0.080529                       (bottled beer)\n",
      "7   0.110524                      (bottled water)\n",
      "8   0.174377                               (soda)\n",
      "9   0.088968                             (pastry)\n",
      "10  0.108998                    (root vegetables)\n",
      "11  0.077682                        (canned beer)\n",
      "12  0.093950                            (sausage)\n",
      "13  0.098526                      (shopping bags)\n",
      "14  0.071683                 (whipped/sour cream)\n",
      "15  0.057651                               (pork)\n",
      "16  0.030503           (whole milk, citrus fruit)\n",
      "17  0.056024                 (yogurt, whole milk)\n",
      "18  0.034367                 (yogurt, rolls/buns)\n",
      "19  0.043416           (other vegetables, yogurt)\n",
      "20  0.035892   (other vegetables, tropical fruit)\n",
      "21  0.042298         (tropical fruit, whole milk)\n",
      "22  0.074835       (other vegetables, whole milk)\n",
      "23  0.042603       (other vegetables, rolls/buns)\n",
      "24  0.056634             (rolls/buns, whole milk)\n",
      "25  0.034367          (bottled water, whole milk)\n",
      "26  0.038332                   (rolls/buns, soda)\n",
      "27  0.040061                   (soda, whole milk)\n",
      "28  0.032740             (other vegetables, soda)\n",
      "29  0.033249                 (whole milk, pastry)\n",
      "30  0.047382  (other vegetables, root vegetables)\n",
      "31  0.048907        (root vegetables, whole milk)\n",
      "32  0.030605                (rolls/buns, sausage)\n",
      "33  0.032232     (whole milk, whipped/sour cream)\n"
     ]
    }
   ],
   "source": [
    "result11 = fpgrowth(data1, min_support=0.03, use_colnames=True)\n",
    "print(result11)"
   ],
   "metadata": {
    "collapsed": false
   }
  },
  {
   "cell_type": "code",
   "execution_count": 14,
   "outputs": [
    {
     "name": "stdout",
     "output_type": "stream",
     "text": [
      "     support                             itemsets\n",
      "0   0.057651                               (pork)\n",
      "1   0.032232     (whole milk, whipped/sour cream)\n",
      "2   0.077682                        (canned beer)\n",
      "3   0.080529                       (bottled beer)\n",
      "4   0.030503           (whole milk, citrus fruit)\n",
      "5   0.033249                 (whole milk, pastry)\n",
      "6   0.030605                (rolls/buns, sausage)\n",
      "7   0.098526                      (shopping bags)\n",
      "8   0.035892   (other vegetables, tropical fruit)\n",
      "9   0.042298         (tropical fruit, whole milk)\n",
      "10  0.047382  (other vegetables, root vegetables)\n",
      "11  0.048907        (root vegetables, whole milk)\n",
      "12  0.034367          (bottled water, whole milk)\n",
      "13  0.034367                 (yogurt, rolls/buns)\n",
      "14  0.043416           (other vegetables, yogurt)\n",
      "15  0.056024                 (yogurt, whole milk)\n",
      "16  0.032740             (other vegetables, soda)\n",
      "17  0.038332                   (rolls/buns, soda)\n",
      "18  0.040061                   (soda, whole milk)\n",
      "19  0.042603       (other vegetables, rolls/buns)\n",
      "20  0.056634             (rolls/buns, whole milk)\n",
      "21  0.074835       (other vegetables, whole milk)\n"
     ]
    }
   ],
   "source": [
    "result12 = fpmax(data1, min_support=0.03, use_colnames=True)\n",
    "print(result12)"
   ],
   "metadata": {
    "collapsed": false
   }
  },
  {
   "cell_type": "code",
   "execution_count": 15,
   "outputs": [
    {
     "data": {
      "text/plain": "<Figure size 1500x1000 with 1 Axes>",
      "image/png": "[encoded data removed]"
     },
     "metadata": {},
     "output_type": "display_data"
    }
   ],
   "source": [
    "result2 = fpmax(data1, min_support=0.03, use_colnames=True, max_len=1)\n",
    "itemsets = []\n",
    "for i in result2[\"itemsets\"]:\n",
    "    itemsets.append(*list(i))\n",
    "supports = []\n",
    "for i in result2[\"support\"]:\n",
    "    supports.append(i)\n",
    "dict2 = {}\n",
    "for i in range(len(itemsets)):\n",
    "    dict2[itemsets[i]] = supports[i]\n",
    "gist2 = tuple(sorted(dict2.items(), key=lambda x: x[1], reverse=True))[0:10]\n",
    "fig, ax = plt.subplots(figsize=(15, 10))\n",
    "names = [name[0] for name in gist2]\n",
    "sups = [sup[1] for sup in gist2]\n",
    "ax.bar(names, sups)\n",
    "plt.show()"
   ],
   "metadata": {
    "collapsed": false
   }
  },
  {
   "cell_type": "code",
   "execution_count": 16,
   "outputs": [
    {
     "data": {
      "text/plain": "<Figure size 1000x1000 with 1 Axes>",
      "image/png": "[encoded data removed]"
     },
     "metadata": {},
     "output_type": "display_data"
    }
   ],
   "source": [
    "from decimal import Decimal\n",
    "import matplotlib.pyplot as plt\n",
    "i = Decimal(0.05)\n",
    "support = []\n",
    "length = []\n",
    "ml = []\n",
    "while i <= 1:\n",
    "    support.append(i)\n",
    "    results = fpgrowth(data1, min_support=i, use_colnames=True)\n",
    "    results['length'] = results['itemsets'].apply(lambda x: len(x))\n",
    "    length.append(len(results))\n",
    "    if len(results) > 0:\n",
    "        ml.append(max(results['length']))\n",
    "    i += Decimal(0.01)\n",
    "\n",
    "fig, ax = plt.subplots(figsize=(10, 10))\n",
    "ax.plot(support, length)\n",
    "ax.scatter(support[ml.index(1)], length[ml.index(1)], color='red')\n",
    "ax.scatter(support[len(ml)], length[len(ml)], color='blue')\n",
    "plt.show()\n",
    "\n"
   ],
   "metadata": {
    "collapsed": false
   }
  },
  {
   "cell_type": "code",
   "execution_count": 17,
   "outputs": [],
   "source": [
    "np_data = all_data.to_numpy()\n",
    "np_data = [[elem for elem in row[1:] if isinstance(elem, str) and elem in\n",
    "            items] for row in np_data]\n",
    "np_data = [row for row in np_data if len(row) > 1]"
   ],
   "metadata": {
    "collapsed": false
   }
  },
  {
   "cell_type": "code",
   "execution_count": 18,
   "outputs": [],
   "source": [
    "result = fpgrowth(data, min_support=0.05, use_colnames = True)"
   ],
   "metadata": {
    "collapsed": false
   }
  },
  {
   "cell_type": "code",
   "execution_count": 19,
   "outputs": [
    {
     "name": "stdout",
     "output_type": "stream",
     "text": [
      "          antecedents   consequents  antecedent support  consequent support  \\\n",
      "0            (yogurt)  (whole milk)            0.139502            0.255516   \n",
      "1  (other vegetables)  (whole milk)            0.193493            0.255516   \n",
      "2        (rolls/buns)  (whole milk)            0.183935            0.255516   \n",
      "\n",
      "    support  confidence      lift  leverage  conviction  \n",
      "0  0.056024    0.401603  1.571735  0.020379    1.244132  \n",
      "1  0.074835    0.386758  1.513634  0.025394    1.214013  \n",
      "2  0.056634    0.307905  1.205032  0.009636    1.075696  \n"
     ]
    }
   ],
   "source": [
    "from mlxtend.frequent_patterns import association_rules\n",
    "rules = association_rules(result, min_threshold = 0.3)\n",
    "print(rules)\n"
   ],
   "metadata": {
    "collapsed": false
   }
  },
  {
   "cell_type": "code",
   "execution_count": 20,
   "outputs": [
    {
     "name": "stdout",
     "output_type": "stream",
     "text": [
      " support определяется для наборов элементов. «antecedent support» вычисляет долю транзакций, «consequent suppor» вычисляет поддержку набора элементов.  Метрика lift обычно используется для измерения того, насколько чаще антецедент и консеквент правила  встречаются вместе. Leverage вычисляет разницу между наблюдаемой частотой появления .\n"
     ]
    }
   ],
   "source": [
    "print(\" support определяется для наборов элементов. «antecedent support» вычисляет долю транзакций, «consequent suppor» вычисляет поддержку набора элементов.  Метрика lift обычно используется для измерения того, насколько чаще антецедент и консеквент правила  встречаются вместе. Leverage вычисляет разницу между наблюдаемой частотой появления .\")"
   ],
   "metadata": {
    "collapsed": false
   }
  },
  {
   "cell_type": "code",
   "execution_count": 21,
   "outputs": [
    {
     "name": "stdout",
     "output_type": "stream",
     "text": [
      "           antecedents         consequents  antecedent support  \\\n",
      "0             (yogurt)        (whole milk)            0.139502   \n",
      "1         (whole milk)            (yogurt)            0.255516   \n",
      "2   (other vegetables)            (yogurt)            0.193493   \n",
      "3             (yogurt)  (other vegetables)            0.139502   \n",
      "4     (tropical fruit)        (whole milk)            0.104931   \n",
      "5         (whole milk)    (tropical fruit)            0.255516   \n",
      "6   (other vegetables)        (whole milk)            0.193493   \n",
      "7         (whole milk)  (other vegetables)            0.255516   \n",
      "8   (other vegetables)        (rolls/buns)            0.193493   \n",
      "9         (rolls/buns)  (other vegetables)            0.183935   \n",
      "10        (rolls/buns)        (whole milk)            0.183935   \n",
      "11        (whole milk)        (rolls/buns)            0.255516   \n",
      "12              (soda)        (whole milk)            0.174377   \n",
      "13        (whole milk)              (soda)            0.255516   \n",
      "14  (other vegetables)   (root vegetables)            0.193493   \n",
      "15   (root vegetables)  (other vegetables)            0.108998   \n",
      "16   (root vegetables)        (whole milk)            0.108998   \n",
      "17        (whole milk)   (root vegetables)            0.255516   \n",
      "\n",
      "    consequent support   support  confidence      lift  leverage  conviction  \n",
      "0             0.255516  0.056024    0.401603  1.571735  0.020379    1.244132  \n",
      "1             0.139502  0.056024    0.219260  1.571735  0.020379    1.102157  \n",
      "2             0.139502  0.043416    0.224383  1.608457  0.016424    1.109436  \n",
      "3             0.193493  0.043416    0.311224  1.608457  0.016424    1.170929  \n",
      "4             0.255516  0.042298    0.403101  1.577595  0.015486    1.247252  \n",
      "5             0.104931  0.042298    0.165539  1.577595  0.015486    1.072631  \n",
      "6             0.255516  0.074835    0.386758  1.513634  0.025394    1.214013  \n",
      "7             0.193493  0.074835    0.292877  1.513634  0.025394    1.140548  \n",
      "8             0.183935  0.042603    0.220179  1.197047  0.007013    1.046477  \n",
      "9             0.193493  0.042603    0.231620  1.197047  0.007013    1.049620  \n",
      "10            0.255516  0.056634    0.307905  1.205032  0.009636    1.075696  \n",
      "11            0.183935  0.056634    0.221647  1.205032  0.009636    1.048452  \n",
      "12            0.255516  0.040061    0.229738  0.899112 -0.004495    0.966533  \n",
      "13            0.174377  0.040061    0.156785  0.899112 -0.004495    0.979136  \n",
      "14            0.108998  0.047382    0.244877  2.246605  0.026291    1.179941  \n",
      "15            0.193493  0.047382    0.434701  2.246605  0.026291    1.426693  \n",
      "16            0.255516  0.048907    0.448694  1.756031  0.021056    1.350401  \n",
      "17            0.108998  0.048907    0.191405  1.756031  0.021056    1.101913  \n",
      "Среднее значение параметра :0.2829052726691693\n",
      "Медиана параметра :0.23824809507666894\n",
      "СКО параметра :0.09174103324706069\n"
     ]
    }
   ],
   "source": [
    "from statistics import mean, median\n",
    "import numpy as np\n",
    "result = fpgrowth(data, min_support=0.04, use_colnames=True)\n",
    "rules = association_rules(result, min_threshold=0.1, metric='confidence')\n",
    "print(rules)\n",
    "print('Среднее значение параметра :'+ str(mean(rules[\"confidence\"])))\n",
    "print('Медиана параметра :'+ str(median(rules[\"confidence\"])))\n",
    "print('СКО параметра :' + str(np.std(rules[\"confidence\"])))\n"
   ],
   "metadata": {
    "collapsed": false
   }
  },
  {
   "cell_type": "code",
   "execution_count": 22,
   "outputs": [
    {
     "name": "stdout",
     "output_type": "stream",
     "text": [
      "           antecedents         consequents  antecedent support  \\\n",
      "0             (yogurt)        (whole milk)            0.139502   \n",
      "1         (whole milk)            (yogurt)            0.255516   \n",
      "2   (other vegetables)            (yogurt)            0.193493   \n",
      "3             (yogurt)  (other vegetables)            0.139502   \n",
      "4     (tropical fruit)        (whole milk)            0.104931   \n",
      "5         (whole milk)    (tropical fruit)            0.255516   \n",
      "6   (other vegetables)        (whole milk)            0.193493   \n",
      "7         (whole milk)  (other vegetables)            0.255516   \n",
      "8   (other vegetables)        (rolls/buns)            0.193493   \n",
      "9         (rolls/buns)  (other vegetables)            0.183935   \n",
      "10        (rolls/buns)        (whole milk)            0.183935   \n",
      "11        (whole milk)        (rolls/buns)            0.255516   \n",
      "12              (soda)        (whole milk)            0.174377   \n",
      "13        (whole milk)              (soda)            0.255516   \n",
      "14  (other vegetables)   (root vegetables)            0.193493   \n",
      "15   (root vegetables)  (other vegetables)            0.108998   \n",
      "16   (root vegetables)        (whole milk)            0.108998   \n",
      "17        (whole milk)   (root vegetables)            0.255516   \n",
      "\n",
      "    consequent support   support  confidence      lift  leverage  conviction  \n",
      "0             0.255516  0.056024    0.401603  1.571735  0.020379    1.244132  \n",
      "1             0.139502  0.056024    0.219260  1.571735  0.020379    1.102157  \n",
      "2             0.139502  0.043416    0.224383  1.608457  0.016424    1.109436  \n",
      "3             0.193493  0.043416    0.311224  1.608457  0.016424    1.170929  \n",
      "4             0.255516  0.042298    0.403101  1.577595  0.015486    1.247252  \n",
      "5             0.104931  0.042298    0.165539  1.577595  0.015486    1.072631  \n",
      "6             0.255516  0.074835    0.386758  1.513634  0.025394    1.214013  \n",
      "7             0.193493  0.074835    0.292877  1.513634  0.025394    1.140548  \n",
      "8             0.183935  0.042603    0.220179  1.197047  0.007013    1.046477  \n",
      "9             0.193493  0.042603    0.231620  1.197047  0.007013    1.049620  \n",
      "10            0.255516  0.056634    0.307905  1.205032  0.009636    1.075696  \n",
      "11            0.183935  0.056634    0.221647  1.205032  0.009636    1.048452  \n",
      "12            0.255516  0.040061    0.229738  0.899112 -0.004495    0.966533  \n",
      "13            0.174377  0.040061    0.156785  0.899112 -0.004495    0.979136  \n",
      "14            0.108998  0.047382    0.244877  2.246605  0.026291    1.179941  \n",
      "15            0.193493  0.047382    0.434701  2.246605  0.026291    1.426693  \n",
      "16            0.255516  0.048907    0.448694  1.756031  0.021056    1.350401  \n",
      "17            0.108998  0.048907    0.191405  1.756031  0.021056    1.101913  \n",
      "Среднее значение параметра :0.050240072304129246\n",
      "Медиана параметра :0.047381799694966954\n",
      "СКО параметра :0.010332111871899625\n"
     ]
    }
   ],
   "source": [
    "rules = association_rules(result, min_threshold=0.01, metric='support')\n",
    "print(rules)\n",
    "print('Среднее значение параметра :'+ str(mean(rules[\"support\"])))\n",
    "print('Медиана параметра :'+ str(median(rules[\"support\"])))\n",
    "print('СКО параметра :' + str(np.std(rules[\"support\"])))"
   ],
   "metadata": {
    "collapsed": false
   }
  },
  {
   "cell_type": "code",
   "execution_count": 23,
   "outputs": [
    {
     "name": "stdout",
     "output_type": "stream",
     "text": [
      "           antecedents         consequents  antecedent support  \\\n",
      "0             (yogurt)        (whole milk)            0.139502   \n",
      "1         (whole milk)            (yogurt)            0.255516   \n",
      "2   (other vegetables)            (yogurt)            0.193493   \n",
      "3             (yogurt)  (other vegetables)            0.139502   \n",
      "4     (tropical fruit)        (whole milk)            0.104931   \n",
      "5         (whole milk)    (tropical fruit)            0.255516   \n",
      "6   (other vegetables)        (whole milk)            0.193493   \n",
      "7         (whole milk)  (other vegetables)            0.255516   \n",
      "8   (other vegetables)   (root vegetables)            0.193493   \n",
      "9    (root vegetables)  (other vegetables)            0.108998   \n",
      "10   (root vegetables)        (whole milk)            0.108998   \n",
      "11        (whole milk)   (root vegetables)            0.255516   \n",
      "\n",
      "    consequent support   support  confidence      lift  leverage  conviction  \n",
      "0             0.255516  0.056024    0.401603  1.571735  0.020379    1.244132  \n",
      "1             0.139502  0.056024    0.219260  1.571735  0.020379    1.102157  \n",
      "2             0.139502  0.043416    0.224383  1.608457  0.016424    1.109436  \n",
      "3             0.193493  0.043416    0.311224  1.608457  0.016424    1.170929  \n",
      "4             0.255516  0.042298    0.403101  1.577595  0.015486    1.247252  \n",
      "5             0.104931  0.042298    0.165539  1.577595  0.015486    1.072631  \n",
      "6             0.255516  0.074835    0.386758  1.513634  0.025394    1.214013  \n",
      "7             0.193493  0.074835    0.292877  1.513634  0.025394    1.140548  \n",
      "8             0.108998  0.047382    0.244877  2.246605  0.026291    1.179941  \n",
      "9             0.193493  0.047382    0.434701  2.246605  0.026291    1.426693  \n",
      "10            0.255516  0.048907    0.448694  1.756031  0.021056    1.350401  \n",
      "11            0.108998  0.048907    0.191405  1.756031  0.021056    1.101913  \n",
      "Среднее значение параметра :0.020838559154364243\n",
      "Медиана параметра :0.02071778653838151\n",
      "СКО параметра :0.004059627576864452\n"
     ]
    }
   ],
   "source": [
    "rules = association_rules(result, min_threshold=0.01, metric='leverage')\n",
    "print(rules)\n",
    "print('Среднее значение параметра :'+ str(mean(rules[\"leverage\"])))\n",
    "print('Медиана параметра :'+ str(median(rules[\"leverage\"])))\n",
    "print('СКО параметра :' + str(np.std(rules[\"leverage\"])))"
   ],
   "metadata": {
    "collapsed": false
   }
  },
  {
   "cell_type": "code",
   "execution_count": 24,
   "outputs": [
    {
     "name": "stdout",
     "output_type": "stream",
     "text": [
      "           antecedents         consequents  antecedent support  \\\n",
      "0             (yogurt)        (whole milk)            0.139502   \n",
      "1         (whole milk)            (yogurt)            0.255516   \n",
      "2   (other vegetables)            (yogurt)            0.193493   \n",
      "3             (yogurt)  (other vegetables)            0.139502   \n",
      "4     (tropical fruit)        (whole milk)            0.104931   \n",
      "5         (whole milk)    (tropical fruit)            0.255516   \n",
      "6   (other vegetables)        (whole milk)            0.193493   \n",
      "7         (whole milk)  (other vegetables)            0.255516   \n",
      "8   (other vegetables)        (rolls/buns)            0.193493   \n",
      "9         (rolls/buns)  (other vegetables)            0.183935   \n",
      "10        (rolls/buns)        (whole milk)            0.183935   \n",
      "11        (whole milk)        (rolls/buns)            0.255516   \n",
      "12              (soda)        (whole milk)            0.174377   \n",
      "13        (whole milk)              (soda)            0.255516   \n",
      "14  (other vegetables)   (root vegetables)            0.193493   \n",
      "15   (root vegetables)  (other vegetables)            0.108998   \n",
      "16   (root vegetables)        (whole milk)            0.108998   \n",
      "17        (whole milk)   (root vegetables)            0.255516   \n",
      "\n",
      "    consequent support   support  confidence      lift  leverage  conviction  \n",
      "0             0.255516  0.056024    0.401603  1.571735  0.020379    1.244132  \n",
      "1             0.139502  0.056024    0.219260  1.571735  0.020379    1.102157  \n",
      "2             0.139502  0.043416    0.224383  1.608457  0.016424    1.109436  \n",
      "3             0.193493  0.043416    0.311224  1.608457  0.016424    1.170929  \n",
      "4             0.255516  0.042298    0.403101  1.577595  0.015486    1.247252  \n",
      "5             0.104931  0.042298    0.165539  1.577595  0.015486    1.072631  \n",
      "6             0.255516  0.074835    0.386758  1.513634  0.025394    1.214013  \n",
      "7             0.193493  0.074835    0.292877  1.513634  0.025394    1.140548  \n",
      "8             0.183935  0.042603    0.220179  1.197047  0.007013    1.046477  \n",
      "9             0.193493  0.042603    0.231620  1.197047  0.007013    1.049620  \n",
      "10            0.255516  0.056634    0.307905  1.205032  0.009636    1.075696  \n",
      "11            0.183935  0.056634    0.221647  1.205032  0.009636    1.048452  \n",
      "12            0.255516  0.040061    0.229738  0.899112 -0.004495    0.966533  \n",
      "13            0.174377  0.040061    0.156785  0.899112 -0.004495    0.979136  \n",
      "14            0.108998  0.047382    0.244877  2.246605  0.026291    1.179941  \n",
      "15            0.193493  0.047382    0.434701  2.246605  0.026291    1.426693  \n",
      "16            0.255516  0.048907    0.448694  1.756031  0.021056    1.350401  \n",
      "17            0.108998  0.048907    0.191405  1.756031  0.021056    1.101913  \n",
      "Среднее значение параметра :1.140331125249048\n",
      "Медиана параметра :1.1057966943491302\n",
      "СКО параметра :0.11799021582624744\n"
     ]
    }
   ],
   "source": [
    "rules = association_rules(result, min_threshold=0.01, metric='conviction')\n",
    "print(rules)\n",
    "print('Среднее значение параметра :'+ str(mean(rules[\"conviction\"])))\n",
    "print('Медиана параметра :'+ str(median(rules[\"conviction\"])))\n",
    "print('СКО параметра :' + str(np.std(rules[\"conviction\"])))"
   ],
   "metadata": {
    "collapsed": false
   }
  },
  {
   "cell_type": "code",
   "execution_count": 52,
   "outputs": [
    {
     "name": "stdout",
     "output_type": "stream",
     "text": [
      "         antecedents         consequents  antecedent support  \\\n",
      "0           (yogurt)        (whole milk)            0.139502   \n",
      "1   (tropical fruit)        (whole milk)            0.104931   \n",
      "2  (root vegetables)  (other vegetables)            0.108998   \n",
      "3  (root vegetables)        (whole milk)            0.108998   \n",
      "\n",
      "   consequent support   support  confidence      lift  leverage  conviction  \n",
      "0            0.255516  0.056024    0.401603  1.571735  0.020379    1.244132  \n",
      "1            0.255516  0.042298    0.403101  1.577595  0.015486    1.247252  \n",
      "2            0.193493  0.047382    0.434701  2.246605  0.026291    1.426693  \n",
      "3            0.255516  0.048907    0.448694  1.756031  0.021056    1.350401  \n"
     ]
    },
    {
     "data": {
      "text/plain": "<Figure size 640x480 with 1 Axes>",
      "image/png": "[encoded data removed]"
     },
     "metadata": {},
     "output_type": "display_data"
    }
   ],
   "source": [
    "import networkx as nx\n",
    "rules = association_rules(result, min_threshold=0.4, metric='confidence')\n",
    "print(rules)\n",
    "ant = rules[\"antecedents\"]\n",
    "edges = []\n",
    "cons = rules[\"consequents\"]\n",
    "conf = rules[\"confidence\"]\n",
    "dict = {}\n",
    "for i in range(len(ant)):\n",
    "    edges.append([str(list(ant[i])[0]), str(list(cons[i])[0])])\n",
    "    dict[(str(list(ant[i])[0]), str(list(cons[i])[0]))] = round(conf[i], 2)\n",
    "sup = rules[\"support\"]\n",
    "edd = nx.DiGraph()\n",
    "edd.add_edges_from(edges)\n",
    "for i in range(len(ant)):\n",
    "    edd.add_nodes_from([str(list(ant[i])[0]), str(list(cons[i])[0])])\n",
    "plt.figure()\n",
    "for i in range(len(dict.items())):\n",
    "    nx.draw(edd, pos, edge_color='black', width=round(sup[i], 1), linewidths=5,node_size=500, node_color='red', alpha=0.9, font_size=12,labels={node: node for node in edd.nodes()})\n",
    "nx.draw_networkx_edge_labels(edd, pos,edge_labels=dict,font_color='green')\n",
    "plt.show()"
   ],
   "metadata": {
    "collapsed": false
   }
  },
  {
   "cell_type": "code",
   "execution_count": 48,
   "outputs": [
    {
     "name": "stdout",
     "output_type": "stream",
     "text": [
      "На графе видно связи между антецедентами и консеквентами, а также уровень поддержки между ними.\n"
     ]
    }
   ],
   "source": [
    "print('На графе видно связи между антецедентами и консеквентами, а также уровень поддержки между ними.')"
   ],
   "metadata": {
    "collapsed": false
   }
  },
  {
   "cell_type": "code",
   "execution_count": 26,
   "outputs": [],
   "source": [],
   "metadata": {
    "collapsed": false
   }
  },
  {
   "cell_type": "code",
   "execution_count": 26,
   "outputs": [],
   "source": [],
   "metadata": {
    "collapsed": false
   }
  }
 ],
 "metadata": {
  "kernelspec": {
   "display_name": "Python 3",
   "language": "python",
   "name": "python3"
  },
  "language_info": {
   "codemirror_mode": {
    "name": "ipython",
    "version": 2
   },
   "file_extension": ".py",
   "mimetype": "text/x-python",
   "name": "python",
   "nbconvert_exporter": "python",
   "pygments_lexer": "ipython2",
   "version": "2.7.6"
  }
 },
 "nbformat": 4,
 "nbformat_minor": 0
}
